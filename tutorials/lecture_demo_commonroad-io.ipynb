{
 "metadata": {
  "kernelspec": {
   "display_name": "Python 3",
   "language": "python",
   "name": "python3"
  },
  "language_info": {
   "name": "python",
   "version": "3.7.12",
   "mimetype": "text/x-python",
   "codemirror_mode": {
    "name": "ipython",
    "version": 3
   },
   "pygments_lexer": "ipython3",
   "nbconvert_exporter": "python",
   "file_extension": ".py"
  }
 },
 "nbformat_minor": 4,
 "nbformat": 4,
 "cells": [
  {
   "cell_type": "markdown",
   "source": [
    "# Demonstration: CommonRoad Input-Output\n",
    "## Reading, Visualizing and Modifying CommonRoad Scenarios\n",
    "We demonstrate how to read, visualize and modify a simple CommonRoad scenario. For a more detailed tutorial, please refer to [tutorial_commonroad_input-output.ipynb](https://gitlab.lrz.de/tum-cps/commonroad-search/-/blob/master/tutorials/0_commonroad_input-output/tutorial_commonroad_input-output.ipynb)."
   ],
   "metadata": {}
  },
  {
   "cell_type": "markdown",
   "source": [
    "# 1. Read a scenario XML file\n",
    "\n",
    "As documented in [CommonRoadFileReader](https://commonroad-io.readthedocs.io/en/latest/api/common/), the **CommonRoadFileReader** reads in a CommonRoad XML file; its **open()** method returns a **Scenario** and a **PlanningProblemSet** object:"
   ],
   "metadata": {}
  },
  {
   "cell_type": "code",
   "source": [
    "# necessary imports\n",
    "import os\n",
    "import matplotlib.pyplot as plt\n",
    "from IPython import display\n",
    "\n",
    "# import classes and functions for reading xml file and visualizing commonroad objects\n",
    "from commonroad.common.file_reader import CommonRoadFileReader\n",
    "from commonroad.visualization.mp_renderer import MPRenderer"
   ],
   "metadata": {
    "trusted": true
   },
   "execution_count": 2,
   "outputs": []
  },
  {
   "cell_type": "code",
   "source": [
    "# generate path of the scenario\n",
    "path_file = \"../scenarios/tutorial/ZAM_Tutorial-1_2_T-1.xml\"\n",
    "\n",
    "# read in the scenario and planning problem set\n",
    "scenario, planning_problem_set = CommonRoadFileReader(path_file).open()\n",
    "\n",
    "\n",
    "# plot the scenario for 40 time steps, here each time step corresponds to 0.1 second\n",
    "for i in range(0, 40):\n",
    "    # create figure and renderer\n",
    "    plt.figure(figsize=(25, 10))\n",
    "    renderer = MPRenderer()\n",
    "    \n",
    "    # uncomment the following line to visualize with animation\n",
    "    display.clear_output(wait=True)\n",
    "    \n",
    "    # plot the scenario for each time step\n",
    "    #### YOUR CODE HERE\n",
    "    \n",
    "    # plot the planning problem set\n",
    "    #### YOUR CODE HERE\n",
    "    \n",
    "    # show plots\n",
    "    #### YOUR CODE HERE\n"
   ],
   "metadata": {
    "trusted": true
   },
   "execution_count": 5,
   "outputs": [
    {
     "output_type": "display_data",
     "data": {
      "text/plain": "<Figure size 1800x720 with 1 Axes>",
      "image/png": "[encoded data removed]"
     },
     "metadata": {
      "needs_background": "light"
     }
    }
   ]
  },
  {
   "cell_type": "markdown",
   "source": [
    "# 2. Modify scenario\n",
    "## 2.1. Add a static obstacle to the scenario\n",
    "We would like to add a static obstacle with the following specification:\n",
    "   * **obstacle type:** parked vehicle\n",
    "   * **obstacle shape:** rectangle with a width of 2.0 m and a length of 4.5 m\n",
    "   * **initial state:**\n",
    "        * position: (30, 3.5) m\n",
    "        * orientation: 0.02 rad\n",
    "        * time step: 0\n",
    "   * **obstacle id:** Generate a unique ID using **generate_object_id()** of class **Scenario**"
   ],
   "metadata": {}
  },
  {
   "cell_type": "code",
   "source": [
    "# necessary imports\n",
    "import numpy as np\n",
    "\n",
    "from commonroad.geometry.shape import Rectangle\n",
    "from commonroad.scenario.obstacle import StaticObstacle, ObstacleType\n",
    "from commonroad.scenario.trajectory import State"
   ],
   "metadata": {
    "trusted": true
   },
   "execution_count": 6,
   "outputs": []
  },
  {
   "cell_type": "markdown",
   "source": [
    "Create new static obstacle:"
   ],
   "metadata": {}
  },
  {
   "cell_type": "code",
   "source": [
    "# generate the static obstacle according to the specification\n",
    "#### YOUR CODE HERE\n",
    "static_obstacle_type =\n",
    "static_obstacle_shape =\n",
    "static_obstacle_initial_state = State(position = ,\n",
    "                                      orientation = , time_step = )\n",
    "static_obstacle_id = scenario.generate_object_id()\n",
    "\n",
    "# construct a static obstacle\n",
    "#### YOUR CODE HERE\n",
    "static_obstacle =\n",
    "\n",
    "# add the static obstacle to the scenario\n",
    "#### YOUR CODE HERE\n"
   ],
   "metadata": {
    "trusted": true
   },
   "execution_count": 7,
   "outputs": []
  },
  {
   "cell_type": "markdown",
   "source": [
    "Visualize the new scenario:"
   ],
   "metadata": {}
  },
  {
   "cell_type": "code",
   "source": [
    "# plot the scenario for each time step\n",
    "for i in range(0, 40):\n",
    "    # create figure and renderer\n",
    "    plt.figure(figsize=(25, 10))\n",
    "    renderer = MPRenderer()\n",
    "    \n",
    "    # uncomment the following line to visualize with animation\n",
    "    display.clear_output(wait=True)\n",
    "    \n",
    "    # plot the scenario for each time step\n",
    "    scenario.draw(renderer, draw_params={'time_begin': i})\n",
    "    \n",
    "    # plot the planning problem set\n",
    "    planning_problem_set.draw(renderer)\n",
    "    \n",
    "    # show plots\n",
    "    renderer.render()\n",
    "    plt.show()"
   ],
   "metadata": {
    "trusted": true
   },
   "execution_count": 8,
   "outputs": [
    {
     "output_type": "display_data",
     "data": {
      "text/plain": "<Figure size 1800x720 with 1 Axes>",
      "image/png": "[encoded data removed]"
     },
     "metadata": {
      "needs_background": "light"
     }
    }
   ]
  },
  {
   "cell_type": "markdown",
   "source": [
    "## 2.2. Add a dynamic obstacle (car) to the scenario\n",
    "We would like to add a dynamic obstacle with the following specification:\n",
    "   * **obstacle type:** car\n",
    "   * **obstacle shape:** rectangle with a width of 1.8 m and a length of 4.3 m\n",
    "   * **initial state:**\n",
    "        * position: (50, 0.0) m\n",
    "        * orientation: 0.00 rad\n",
    "        * velocity: 22 m/s\n",
    "        * time step: 0\n",
    "   * **obstacle id:** Generate a unique ID using **generate_object_id()** of class **Scenario**\n",
    "   * **prediction:** Trajectory prediction"
   ],
   "metadata": {}
  },
  {
   "cell_type": "code",
   "source": [
    "# necessary imports\n",
    "from commonroad.scenario.obstacle import DynamicObstacle\n",
    "from commonroad.scenario.trajectory import Trajectory\n",
    "from commonroad.prediction.prediction import TrajectoryPrediction"
   ],
   "metadata": {
    "trusted": true
   },
   "execution_count": 9,
   "outputs": []
  },
  {
   "cell_type": "markdown",
   "source": [
    "Create the specifications for a new dynamic obstacle:"
   ],
   "metadata": {}
  },
  {
   "cell_type": "code",
   "source": [
    "# generate dynamic obstacle according to specification\n",
    "dynamic_obstacle_type = ObstacleType.CAR\n",
    "dynamic_obstacle_shape = Rectangle(width = 1.8, length = 4.3)\n",
    "dynamic_obstacle_initial_state = State(position = np.array([50.0, 0.0]), \n",
    "                                       velocity = 22,\n",
    "                                       orientation = 0.0, \n",
    "                                       time_step = 0)\n",
    "dynamic_obstacle_id = scenario.generate_object_id()"
   ],
   "metadata": {
    "trusted": true
   },
   "execution_count": 10,
   "outputs": []
  },
  {
   "cell_type": "markdown",
   "source": [
    "Generate a **trajectory prediction** for the dynamic obstacle (here: vehicle just moves straight with constant velocity)"
   ],
   "metadata": {}
  },
  {
   "cell_type": "code",
   "source": [
    "# generate the states of the obstacle for time steps 1 to 40\n",
    "state_list = []\n",
    "for i in range(1, 40):\n",
    "    # compute new position, here scenario.dt = 0.1 s\n",
    "    new_position = np.array([dynamic_obstacle_initial_state.position[0] + \n",
    "                             scenario.dt * i * 22, 0])\n",
    "    # create new state\n",
    "    new_state = State(position = new_position, velocity = 22,\n",
    "                      orientation = 0.02, time_step = i)\n",
    "    # add new state to state_list\n",
    "    state_list.append(new_state)\n",
    "    \n",
    "# create the trajectory of the obstacle starting at time step 1\n",
    "dynamic_obstacle_trajectory = Trajectory(1, state_list)\n",
    "\n",
    "# create the prediction using the trajectory and the shape of the vehicle\n",
    "dynamic_obstacle_prediction = TrajectoryPrediction(dynamic_obstacle_trajectory, \n",
    "                                                   dynamic_obstacle_shape)"
   ],
   "metadata": {
    "trusted": true
   },
   "execution_count": 11,
   "outputs": []
  },
  {
   "cell_type": "markdown",
   "source": [
    "Create the new dynamic obstacle:"
   ],
   "metadata": {}
  },
  {
   "cell_type": "code",
   "source": [
    "# construct a dynamic obstacle\n",
    "#### YOUR CODE HERE\n",
    "dynamic_obstacle = DynamicObstacle()\n",
    "\n",
    "# add dynamic obstacle to the scenario\n",
    "#### YOUR CODE HERE\n"
   ],
   "metadata": {
    "trusted": true
   },
   "execution_count": 12,
   "outputs": []
  },
  {
   "cell_type": "markdown",
   "source": "Visualize the new scenario:",
   "metadata": {}
  },
  {
   "cell_type": "code",
   "source": "# plot the scenario for each time step\nfor i in range(0, 40):\n    # create figure and renderer\n    plt.figure(figsize=(25, 10))\n    renderer = MPRenderer()\n    \n    # uncomment the following line to visualize with animation\n    display.clear_output(wait=True)\n    \n    # plot the scenario for each time step\n    scenario.draw(renderer, draw_params={'time_begin': i})\n    \n    # plot the planning problem set\n    planning_problem_set.draw(renderer)\n    \n    # show plots\n    renderer.render()\n    plt.show()",
   "metadata": {
    "trusted": true
   },
   "execution_count": 14,
   "outputs": [
    {
     "output_type": "display_data",
     "data": {
      "text/plain": "<Figure size 1800x720 with 1 Axes>",
      "image/png": "[encoded data removed]"
     },
     "metadata": {
      "needs_background": "light"
     }
    }
   ]
  }
 ]
}