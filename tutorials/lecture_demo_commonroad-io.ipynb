{
 "cells": [
  {
   "cell_type": "markdown",
   "metadata": {},
   "source": [
    "# Demonstration: CommonRoad Input-Output\n",
    "## Reading, Visualizing and Modifying CommonRoad Scenarios\n",
    "We demonstrate how to read, visualize and modify a simple CommonRoad scenario. For a more detailed tutorial, please refer to [tutorial_commonroad_input-output.ipynb](https://gitlab.lrz.de/tum-cps/commonroad-search/-/blob/master/tutorials/0_commonroad_input-output/tutorial_commonroad_input-output.ipynb)."
   ]
  },
  {
   "cell_type": "code",
   "execution_count": 1,
   "metadata": {},
   "outputs": [],
   "source": [
    "# set necessary paths\n",
    "import sys\n",
    "\n",
    "# add commonroad-io to python path\n",
    "# sys.path.append(\"/home/gerald/Documents/CommonRoad/cps/commonroad-io\")"
   ]
  },
  {
   "cell_type": "markdown",
   "metadata": {},
   "source": [
    "# 1. Read a scenario XML file\n",
    "\n",
    "As documented in [CommonRoadFileReader](https://commonroad-io.readthedocs.io/en/latest/api/common/), the **CommonRoadFileReader** reads in a CommonRoad XML file; its **open()** method returns a **Scenario** and a **PlanningProblemSet** object:"
   ]
  },
  {
   "cell_type": "code",
   "execution_count": 2,
   "metadata": {},
   "outputs": [
    {
     "ename": "ModuleNotFoundError",
     "evalue": "No module named 'commonroad.visualization.draw_dispatch_cr'",
     "output_type": "error",
     "traceback": [
      "\u001b[0;31m---------------------------------------------------------------------------\u001b[0m",
      "\u001b[0;31mModuleNotFoundError\u001b[0m                       Traceback (most recent call last)",
      "\u001b[0;32m<ipython-input-2-d3d55ee83a2b>\u001b[0m in \u001b[0;36m<module>\u001b[0;34m\u001b[0m\n\u001b[1;32m      6\u001b[0m \u001b[0;31m# import classes and functions for reading xml file and visualizing commonroad objects\u001b[0m\u001b[0;34m\u001b[0m\u001b[0;34m\u001b[0m\u001b[0;34m\u001b[0m\u001b[0m\n\u001b[1;32m      7\u001b[0m \u001b[0;32mfrom\u001b[0m \u001b[0mcommonroad\u001b[0m\u001b[0;34m.\u001b[0m\u001b[0mcommon\u001b[0m\u001b[0;34m.\u001b[0m\u001b[0mfile_reader\u001b[0m \u001b[0;32mimport\u001b[0m \u001b[0mCommonRoadFileReader\u001b[0m\u001b[0;34m\u001b[0m\u001b[0;34m\u001b[0m\u001b[0m\n\u001b[0;32m----> 8\u001b[0;31m \u001b[0;32mfrom\u001b[0m \u001b[0mcommonroad\u001b[0m\u001b[0;34m.\u001b[0m\u001b[0mvisualization\u001b[0m\u001b[0;34m.\u001b[0m\u001b[0mdraw_dispatch_cr\u001b[0m \u001b[0;32mimport\u001b[0m \u001b[0mdraw_object\u001b[0m\u001b[0;34m\u001b[0m\u001b[0;34m\u001b[0m\u001b[0m\n\u001b[0m",
      "\u001b[0;31mModuleNotFoundError\u001b[0m: No module named 'commonroad.visualization.draw_dispatch_cr'"
     ]
    }
   ],
   "source": [
    "# necessary imports\n",
    "import os\n",
    "import matplotlib.pyplot as plt\n",
    "from IPython import display\n",
    "\n",
    "# import classes and functions for reading xml file and visualizing commonroad objects\n",
    "from commonroad.common.file_reader import CommonRoadFileReader\n",
    "from commonroad.visualization.draw_dispatch_cr import draw_object"
   ]
  },
  {
   "cell_type": "code",
   "execution_count": 3,
   "metadata": {},
   "outputs": [
    {
     "data": {
      "image/png": "[encoded data removed]",
      "text/plain": [
       "<Figure size 1800x720 with 1 Axes>"
      ]
     },
     "metadata": {
      "needs_background": "light"
     },
     "output_type": "display_data"
    }
   ],
   "source": [
    "# generate path of the scenario\n",
    "path_file = \"../scenarios/tutorial/ZAM_Tutorial-1_2_T-1.xml\"\n",
    "\n",
    "# read in the scenario and planning problem set\n",
    "scenario, planning_problem_set = CommonRoadFileReader(path_file).open()\n",
    "\n",
    "\n",
    "# plot the scenario for 40 time steps, here each time step corresponds to 0.1 second\n",
    "for i in range(0, 40):\n",
    "    # uncomment the following line to clear previous graph for better visualization\n",
    "    display.clear_output(wait=True)\n",
    "    \n",
    "    # create figure\n",
    "    plt.figure(figsize=(25, 10))\n",
    "    \n",
    "    # plot the scenario for each time step\n",
    "    draw_object(scenario, draw_params={'time_begin': i})\n",
    "    \n",
    "    # plot the planning problem set\n",
    "    draw_object(planning_problem_set)\n",
    "    \n",
    "    # show scenario\n",
    "    plt.gca().set_aspect('equal')\n",
    "    plt.show()"
   ]
  },
  {
   "cell_type": "markdown",
   "metadata": {},
   "source": [
    "# 2. Modify scenario\n",
    "## 2.1. Add a static obstacle to the scenario\n",
    "We would like to add a static obstacle with the following specification:\n",
    "   * **obstacle type:** parked vehicle\n",
    "   * **obstacle shape:** rectangle with a width of 2.0 m and a length of 4.5 m\n",
    "   * **initial state:**\n",
    "        * position: (30, 3.5) m\n",
    "        * orientation: 0.02 rad\n",
    "        * time step: 0\n",
    "   * **obstacle id:** Generate a unique ID using **generate_object_id()** of class **Scenario**"
   ]
  },
  {
   "cell_type": "code",
   "execution_count": 4,
   "metadata": {},
   "outputs": [],
   "source": [
    "# necessary imports\n",
    "import numpy as np\n",
    "\n",
    "from commonroad.geometry.shape import Rectangle\n",
    "from commonroad.scenario.obstacle import StaticObstacle, ObstacleType\n",
    "from commonroad.scenario.trajectory import State"
   ]
  },
  {
   "cell_type": "markdown",
   "metadata": {},
   "source": [
    "Create new static obstacle:"
   ]
  },
  {
   "cell_type": "code",
   "execution_count": 5,
   "metadata": {},
   "outputs": [],
   "source": [
    "# generate the static obstacle according to the specification\n",
    "static_obstacle_type = ObstacleType.PARKED_VEHICLE\n",
    "static_obstacle_shape = Rectangle(width = 2.0, length = 4.5)\n",
    "static_obstacle_initial_state = State(position = np.array([30.0, 3.5]), \n",
    "                                      orientation = 0.02, time_step = 0)\n",
    "static_obstacle_id = scenario.generate_object_id()\n",
    "\n",
    "# construct a static obstacle\n",
    "static_obstacle = StaticObstacle(static_obstacle_id, static_obstacle_type, \n",
    "                                 static_obstacle_shape, static_obstacle_initial_state)\n",
    "\n",
    "# add the static obstacle to the scenario\n",
    "scenario.add_objects(static_obstacle)"
   ]
  },
  {
   "cell_type": "markdown",
   "metadata": {},
   "source": [
    "Visualize the new scenario:"
   ]
  },
  {
   "cell_type": "code",
   "execution_count": 7,
   "metadata": {},
   "outputs": [
    {
     "data": {
      "image/png": "[encoded data removed]",
      "text/plain": [
       "<Figure size 1800x720 with 1 Axes>"
      ]
     },
     "metadata": {
      "needs_background": "light"
     },
     "output_type": "display_data"
    }
   ],
   "source": [
    "# plot the scenario for each time step\n",
    "for i in range(0, 40):\n",
    "    # uncomment to clear previous graph\n",
    "    display.clear_output(wait=True)\n",
    "    plt.figure(figsize=(25, 10))\n",
    "    draw_object(scenario, draw_params={'time_begin': i})\n",
    "    draw_object(planning_problem_set)\n",
    "    plt.gca().set_aspect('equal')\n",
    "    plt.show()"
   ]
  },
  {
   "cell_type": "markdown",
   "metadata": {},
   "source": [
    "## 2.2. Add a dynamic obstacle (car) to the scenario\n",
    "We would like to add a dynamic obstacle with the following specification:\n",
    "   * **obstacle type:** car\n",
    "   * **obstacle shape:** rectangle with a width of 1.8 m and a length of 4.3 m\n",
    "   * **initial state:**\n",
    "        * position: (50, 0.0) m\n",
    "        * orientation: 0.00 rad\n",
    "        * velocity: 22 m/s\n",
    "        * time step: 0\n",
    "   * **obstacle id:** Generate a unique ID using **generate_object_id()** of class **Scenario**\n",
    "   * **prediction:** Trajectory prediction"
   ]
  },
  {
   "cell_type": "code",
   "execution_count": 9,
   "metadata": {},
   "outputs": [],
   "source": [
    "# necessary imports\n",
    "from commonroad.scenario.obstacle import DynamicObstacle\n",
    "from commonroad.scenario.trajectory import Trajectory\n",
    "from commonroad.prediction.prediction import TrajectoryPrediction"
   ]
  },
  {
   "cell_type": "markdown",
   "metadata": {},
   "source": [
    "Create the specifications for a new dynamic obstacle:"
   ]
  },
  {
   "cell_type": "code",
   "execution_count": 12,
   "metadata": {},
   "outputs": [],
   "source": [
    "# generate dynamic obstacle according to specification\n",
    "dynamic_obstacle_type = ObstacleType.CAR\n",
    "dynamic_obstacle_shape = Rectangle(width = 1.8, length = 4.3)\n",
    "dynamic_obstacle_initial_state = State(position = np.array([50.0, 0.0]), \n",
    "                                       velocity = 22,\n",
    "                                       orientation = 0.0, \n",
    "                                       time_step = 0)\n",
    "dynamic_obstacle_id = scenario.generate_object_id()"
   ]
  },
  {
   "cell_type": "markdown",
   "metadata": {},
   "source": [
    "Generate a trajectory prediction for the dynamic obstacle:"
   ]
  },
  {
   "cell_type": "code",
   "execution_count": 14,
   "metadata": {},
   "outputs": [],
   "source": [
    "# generate the states of the obstacle for time steps 1 to 40\n",
    "state_list = []\n",
    "for i in range(1, 40):\n",
    "    # compute new position, here scenario.dt = 0.1 s\n",
    "    new_position = np.array([dynamic_obstacle_initial_state.position[0] + \n",
    "                             scenario.dt * i * 22, 0])\n",
    "    # create new state\n",
    "    new_state = State(position = new_position, velocity = 22,\n",
    "                      orientation = 0.02, time_step = i)\n",
    "    # add new state to state_list\n",
    "    state_list.append(new_state)\n",
    "    \n",
    "# create the trajectory of the obstacle starting at time step 1\n",
    "dynamic_obstacle_trajectory = Trajectory(1, state_list)\n",
    "\n",
    "# create the prediction using the trajectory and the shape of the vehicle\n",
    "dynamic_obstacle_prediction = TrajectoryPrediction(dynamic_obstacle_trajectory, \n",
    "                                                   dynamic_obstacle_shape)"
   ]
  },
  {
   "cell_type": "markdown",
   "metadata": {},
   "source": [
    "Create the new dynamic obstacle:"
   ]
  },
  {
   "cell_type": "code",
   "execution_count": 15,
   "metadata": {},
   "outputs": [],
   "source": [
    "# construct a dynamic obstacle\n",
    "dynamic_obstacle = DynamicObstacle(dynamic_obstacle_id, \n",
    "                                   dynamic_obstacle_type, \n",
    "                                   dynamic_obstacle_shape, \n",
    "                                   dynamic_obstacle_initial_state, \n",
    "                                   dynamic_obstacle_prediction)\n",
    "\n",
    "# add dynamic obstacle to the scenario\n",
    "scenario.add_objects(dynamic_obstacle)"
   ]
  },
  {
   "cell_type": "markdown",
   "metadata": {},
   "source": [
    "Visualize the new scenario:"
   ]
  },
  {
   "cell_type": "code",
   "execution_count": 18,
   "metadata": {},
   "outputs": [
    {
     "data": {
      "image/png": "[encoded data removed]",
      "text/plain": [
       "<Figure size 1800x720 with 1 Axes>"
      ]
     },
     "metadata": {
      "needs_background": "light"
     },
     "output_type": "display_data"
    }
   ],
   "source": [
    "# plot the scenario for each time step\n",
    "for i in range(0, 40):\n",
    "    # uncomment to clear previous graph\n",
    "    display.clear_output(wait=True)\n",
    "    plt.figure(figsize=(25, 10))\n",
    "    draw_object(scenario, draw_params={'time_begin': i})\n",
    "    draw_object(planning_problem_set)\n",
    "    plt.gca().set_aspect('equal')\n",
    "    plt.show()"
   ]
  }
 ],
 "metadata": {
  "kernelspec": {
   "display_name": "Python 3",
   "language": "python",
   "name": "python3"
  },
  "language_info": {
   "codemirror_mode": {
    "name": "ipython",
    "version": 3
   },
   "file_extension": ".py",
   "mimetype": "text/x-python",
   "name": "python",
   "nbconvert_exporter": "python",
   "pygments_lexer": "ipython3",
   "version": "3.7.9"
  }
 },
 "nbformat": 4,
 "nbformat_minor": 4
}
